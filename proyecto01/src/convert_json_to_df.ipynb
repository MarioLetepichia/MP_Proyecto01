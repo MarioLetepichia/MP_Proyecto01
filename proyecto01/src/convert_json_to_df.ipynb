{
 "cells": [
  {
   "cell_type": "code",
   "execution_count": 20,
   "metadata": {},
   "outputs": [
    {
     "ename": "ModuleNotFoundError",
     "evalue": "No module named 'pandas'",
     "output_type": "error",
     "traceback": [
      "\u001b[0;31m---------------------------------------------------------------------------\u001b[0m",
      "\u001b[0;31mModuleNotFoundError\u001b[0m                       Traceback (most recent call last)",
      "\u001b[1;32m/home/aislinn/respaldo/Tercer Semestre/ProgramacionYModelado/MyP_2022-2/proyecto01/src/convert_json_to_df.ipynb Cell 1'\u001b[0m in \u001b[0;36m<cell line: 6>\u001b[0;34m()\u001b[0m\n\u001b[1;32m      <a href='vscode-notebook-cell:/home/aislinn/respaldo/Tercer%20Semestre/ProgramacionYModelado/MyP_2022-2/proyecto01/src/convert_json_to_df.ipynb#ch0000000?line=0'>1</a>\u001b[0m \u001b[39m\"\"\"\u001b[39;00m\n\u001b[1;32m      <a href='vscode-notebook-cell:/home/aislinn/respaldo/Tercer%20Semestre/ProgramacionYModelado/MyP_2022-2/proyecto01/src/convert_json_to_df.ipynb#ch0000000?line=1'>2</a>\u001b[0m \u001b[39mConvertir archivo jason en dataframe\u001b[39;00m\n\u001b[1;32m      <a href='vscode-notebook-cell:/home/aislinn/respaldo/Tercer%20Semestre/ProgramacionYModelado/MyP_2022-2/proyecto01/src/convert_json_to_df.ipynb#ch0000000?line=2'>3</a>\u001b[0m \u001b[39m@autor Ivette612\u001b[39;00m\n\u001b[1;32m      <a href='vscode-notebook-cell:/home/aislinn/respaldo/Tercer%20Semestre/ProgramacionYModelado/MyP_2022-2/proyecto01/src/convert_json_to_df.ipynb#ch0000000?line=3'>4</a>\u001b[0m \u001b[39m\"\"\"\u001b[39;00m\n\u001b[0;32m----> <a href='vscode-notebook-cell:/home/aislinn/respaldo/Tercer%20Semestre/ProgramacionYModelado/MyP_2022-2/proyecto01/src/convert_json_to_df.ipynb#ch0000000?line=5'>6</a>\u001b[0m \u001b[39mimport\u001b[39;00m \u001b[39mpandas\u001b[39;00m \u001b[39mas\u001b[39;00m \u001b[39mpd\u001b[39;00m\n\u001b[1;32m      <a href='vscode-notebook-cell:/home/aislinn/respaldo/Tercer%20Semestre/ProgramacionYModelado/MyP_2022-2/proyecto01/src/convert_json_to_df.ipynb#ch0000000?line=7'>8</a>\u001b[0m \u001b[39mimport\u001b[39;00m \u001b[39mjson\u001b[39;00m\n\u001b[1;32m      <a href='vscode-notebook-cell:/home/aislinn/respaldo/Tercer%20Semestre/ProgramacionYModelado/MyP_2022-2/proyecto01/src/convert_json_to_df.ipynb#ch0000000?line=8'>9</a>\u001b[0m \u001b[39mimport\u001b[39;00m \u001b[39msys\u001b[39;00m\n",
      "\u001b[0;31mModuleNotFoundError\u001b[0m: No module named 'pandas'"
     ]
    }
   ],
   "source": [
    "\"\"\"\n",
    "Convertir archivo jason en dataframe\n",
    "@autor Ivette612\n",
    "\"\"\"\n",
    "\n",
    "import pandas as pd\n",
    "\n",
    "import json\n",
    "import sys\n",
    "\"\"\"\n",
    "EJEMPLO DE ARCHIVO JSON\n",
    "j = '''\n",
    "\n",
    "{\n",
    "    \"results\": [{\n",
    "        \"elevation\": 243.3462677001953,\n",
    "        \"location\": {\n",
    "            \"lat\": 42.97404,\n",
    "            \"lng\": -81.205203\n",
    "        },\n",
    "        \"resolution\": 19.08790397644043\n",
    "    }, {\n",
    "        \"elevation\": 244.1318664550781,\n",
    "        \"location\": {\n",
    "            \"lat\": 42.974298,\n",
    "            \"lng\": -81.19575500000001\n",
    "        },\n",
    "        \"resolution\": 19.08790397644043\n",
    "    }],\n",
    "    \"status\": \"OK\"\n",
    "}\n",
    "'''\n",
    "#Camibar nombre de archivo\n",
    "\n",
    "data = json.loads(j)\n",
    "df = pd.json_normalize(data['results'])\n",
    "print(df)\n",
    "\n",
    "\"\"\"\n",
    "###Archivo para hacer pruebas sobre python\n",
    "sys.path.insert(0, '/home/marius/Documents/Modelado&Programacion/GitHub_repo/MyP_2022-2/Proyecto01/tests')\n",
    "\n",
    "import test_cache as ca\n",
    "import cache\n",
    "\n",
    "print(ca.Example.cache1)\n",
    "print(len(ca.Example.cache1))\n",
    "\n",
    "c = cache.Cache()\n",
    "c.addValue(\"APT\",{'Hola': 2, 'Adios':3})\n",
    "\n",
    "print(c.getValue('APT'))"
   ]
  }
 ],
 "metadata": {
  "interpreter": {
   "hash": "115feea4224bf5d8bed65d35cc8009882afbb094f061996183e644b4b0edc030"
  },
  "kernelspec": {
   "display_name": "Python 3.8.10 ('venv': venv)",
   "language": "python",
   "name": "python3"
  },
  "language_info": {
   "codemirror_mode": {
    "name": "ipython",
    "version": 3
   },
   "file_extension": ".py",
   "mimetype": "text/x-python",
   "name": "python",
   "nbconvert_exporter": "python",
   "pygments_lexer": "ipython3",
   "version": "3.8.10"
  },
  "orig_nbformat": 4
 },
 "nbformat": 4,
 "nbformat_minor": 2
}
