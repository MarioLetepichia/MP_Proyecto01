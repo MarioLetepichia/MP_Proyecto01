{
 "cells": [
  {
   "cell_type": "code",
   "execution_count": 1,
   "metadata": {},
   "outputs": [
    {
     "name": "stderr",
     "output_type": "stream",
     "text": [
      "E\n",
      "======================================================================\n",
      "ERROR: /home/marius/ (unittest.loader._FailedTest)\n",
      "----------------------------------------------------------------------\n",
      "AttributeError: module '__main__' has no attribute '/home/marius/'\n",
      "\n",
      "----------------------------------------------------------------------\n",
      "Ran 1 test in 0.000s\n",
      "\n",
      "FAILED (errors=1)\n"
     ]
    },
    {
     "ename": "SystemExit",
     "evalue": "True",
     "output_type": "error",
     "traceback": [
      "An exception has occurred, use %tb to see the full traceback.\n",
      "\u001b[0;31mSystemExit\u001b[0m\u001b[0;31m:\u001b[0m True\n"
     ]
    },
    {
     "name": "stderr",
     "output_type": "stream",
     "text": [
      "/home/marius/anaconda3/lib/python3.9/site-packages/IPython/core/interactiveshell.py:3452: UserWarning: To exit: use 'exit', 'quit', or Ctrl-D.\n",
      "  warn(\"To exit: use 'exit', 'quit', or Ctrl-D.\", stacklevel=1)\n"
     ]
    }
   ],
   "source": [
    "import pandas as pd\n",
    "import unittest\n",
    "import sys\n",
    "sys.path.insert(0, '/home/marius/Documents/Modelado&Programacion/GitHub/MyP_2022-2/Proyecto01/src')\n",
    "import cache\n",
    "\n",
    "class TestCache(unittest.TestCase):\n",
    "    # Pruebas cache\n",
    "    def test_addValue(self):\n",
    "        cache_a = cache.Cache()\n",
    "        #Caso optimo\n",
    "        try:\n",
    "            cache_a.addValue(\"HND\",{'Country': 'Japan', 'City': 'Tokyo', 'Elevation': 35})\n",
    "        except Exception: \n",
    "            raise  AssertionError\n",
    "        else: \n",
    "            self.assertTrue(cache_a.getLength() == 1)\n",
    "        #str no IATA\n",
    "        try:\n",
    "            cache_a.addValue(\"abcde\", {'Country': 'Japan', 'City': 'Tokyo', 'Elevation': 35})\n",
    "        except ValueError:\n",
    "            pass\n",
    "        else:\n",
    "            self.assertFalse(cache_a.getLength() == 2)\n",
    "        #info no dict\n",
    "        try:\n",
    "            cache_a.addValue(\"HND\", \"cow\")\n",
    "        except TypeError:\n",
    "            pass\n",
    "        else:\n",
    "            self.assertFalse(cache_a.getLength() == 2)\n",
    "        #Caso optimo\n",
    "        try: \n",
    "            cache_a.addValue(\"KIM\", {'Country': 'South Africa', 'City': 'Kimberley', 'Elevation':3950})\n",
    "        except Exception:\n",
    "            raise AssertionError\n",
    "        else:\n",
    "            self.assertTrue(cache_a.getLength() == 2)\n",
    "\n",
    "    def test_updateCache(self):\n",
    "        cache_b = cache.Cache()\n",
    "        #dicc not dict\n",
    "        try:\n",
    "            cache_b.updateCache(\"Cat\")\n",
    "        except TypeError:\n",
    "            pass\n",
    "        else:\n",
    "            raise AssertionError\n",
    "        #caso optimo\n",
    "        try:\n",
    "            cache_b.updateCache(Example.cache1.copy())\n",
    "        except Exception:\n",
    "            raise AssertionError\n",
    "        self.assertTrue(cache_b.getLength() == 5)\n",
    "\n",
    "    def test_clearCache(self):\n",
    "        cache_c = cache.Cache()\n",
    "        cache_c.updateCache(Example.cache1.copy())\n",
    "        cache_c.clearCache()\n",
    "        self.assertTrue(cache_c.getLength() == 0)\n",
    "\n",
    "class Example:\n",
    "    cache1 = {\n",
    "        'HND': {'Country': 'Japan', 'City': 'Tokyo', 'Elevation': 35},\n",
    "        'YLT': {'Country': 'Canada', 'City': 'Alert', 'Elevation': 100},\n",
    "        'PUQ': {'Country': 'Chile', 'City': 'Punta Arenas', 'Elevation': 139},\n",
    "        'KIM': {'Country': 'South Africa', 'City': 'Kimberley', 'Elevation':3950},\n",
    "        'MAN': {'Country': 'United Kingdom', 'City': 'Manchester', 'Elevation': 257}\n",
    "    }\n",
    "\n",
    "if __name__ == '__main__':\n",
    "    unittest.main()\n",
    "    "
   ]
  }
 ],
 "metadata": {
  "interpreter": {
   "hash": "c8de50c09079c2205839ee23bf826c226be6807115ed0be9e6dc25dbf1d3eba9"
  },
  "kernelspec": {
   "display_name": "Python 3.9.7 ('base')",
   "language": "python",
   "name": "python3"
  },
  "language_info": {
   "codemirror_mode": {
    "name": "ipython",
    "version": 3
   },
   "file_extension": ".py",
   "mimetype": "text/x-python",
   "name": "python",
   "nbconvert_exporter": "python",
   "pygments_lexer": "ipython3",
   "version": "3.9.7"
  },
  "orig_nbformat": 4
 },
 "nbformat": 4,
 "nbformat_minor": 2
}
