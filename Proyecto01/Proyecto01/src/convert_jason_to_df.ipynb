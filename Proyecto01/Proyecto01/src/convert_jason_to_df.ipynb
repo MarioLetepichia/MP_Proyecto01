{
 "cells": [
  {
   "cell_type": "code",
   "execution_count": 1,
   "metadata": {},
   "outputs": [
    {
     "ename": "ModuleNotFoundError",
     "evalue": "No module named 'test_cache'",
     "output_type": "error",
     "traceback": [
      "\u001b[0;31m---------------------------------------------------------------------------\u001b[0m",
      "\u001b[0;31mModuleNotFoundError\u001b[0m                       Traceback (most recent call last)",
      "\u001b[1;32m/home/ivi/Documents/3.2/Modelado/git/MyP_2022-2-RamaIvette/Proyecto01/src/convert_jason_to_df.ipynb Cell 1'\u001b[0m in \u001b[0;36m<cell line: 42>\u001b[0;34m()\u001b[0m\n\u001b[1;32m     <a href='vscode-notebook-cell:/home/ivi/Documents/3.2/Modelado/git/MyP_2022-2-RamaIvette/Proyecto01/src/convert_jason_to_df.ipynb#ch0000000?line=38'>39</a>\u001b[0m \u001b[39m###Archivo para hacer pruebas sobre python\u001b[39;00m\n\u001b[1;32m     <a href='vscode-notebook-cell:/home/ivi/Documents/3.2/Modelado/git/MyP_2022-2-RamaIvette/Proyecto01/src/convert_jason_to_df.ipynb#ch0000000?line=39'>40</a>\u001b[0m sys\u001b[39m.\u001b[39mpath\u001b[39m.\u001b[39minsert(\u001b[39m0\u001b[39m, \u001b[39m'\u001b[39m\u001b[39m/home/marius/Documents/Modelado&Programacion/GitHub_repo/MyP_2022-2/Proyecto01/tests\u001b[39m\u001b[39m'\u001b[39m)\n\u001b[0;32m---> <a href='vscode-notebook-cell:/home/ivi/Documents/3.2/Modelado/git/MyP_2022-2-RamaIvette/Proyecto01/src/convert_jason_to_df.ipynb#ch0000000?line=41'>42</a>\u001b[0m \u001b[39mimport\u001b[39;00m \u001b[39mtest_cache\u001b[39;00m \u001b[39mas\u001b[39;00m \u001b[39mca\u001b[39;00m\n\u001b[1;32m     <a href='vscode-notebook-cell:/home/ivi/Documents/3.2/Modelado/git/MyP_2022-2-RamaIvette/Proyecto01/src/convert_jason_to_df.ipynb#ch0000000?line=42'>43</a>\u001b[0m \u001b[39mimport\u001b[39;00m \u001b[39mcache\u001b[39;00m\n\u001b[1;32m     <a href='vscode-notebook-cell:/home/ivi/Documents/3.2/Modelado/git/MyP_2022-2-RamaIvette/Proyecto01/src/convert_jason_to_df.ipynb#ch0000000?line=44'>45</a>\u001b[0m \u001b[39mprint\u001b[39m(ca\u001b[39m.\u001b[39mExample\u001b[39m.\u001b[39mcache1)\n",
      "\u001b[0;31mModuleNotFoundError\u001b[0m: No module named 'test_cache'"
     ]
    }
   ],
   "source": [
    "\"\"\"\n",
    "Convertir archivo jason en dataframe\n",
    "@autor Ivette612\n",
    "\"\"\"\n",
    "\n",
    "import pandas as pd\n",
    "import json\n",
    "import sys\n",
    "\"\"\"\n",
    "EJEMPLO DE ARCHIVO JSON\n",
    "j = '''\n",
    "\n",
    "{\n",
    "    \"results\": [{\n",
    "        \"elevation\": 243.3462677001953,\n",
    "        \"location\": {\n",
    "            \"lat\": 42.97404,\n",
    "            \"lng\": -81.205203\n",
    "        },\n",
    "        \"resolution\": 19.08790397644043\n",
    "    }, {\n",
    "        \"elevation\": 244.1318664550781,\n",
    "        \"location\": {\n",
    "            \"lat\": 42.974298,\n",
    "            \"lng\": -81.19575500000001\n",
    "        },\n",
    "        \"resolution\": 19.08790397644043\n",
    "    }],\n",
    "    \"status\": \"OK\"\n",
    "}\n",
    "'''\n",
    "#Camibar nombre de archivo\n",
    "\n",
    "data = json.loads(j)\n",
    "df = pd.json_normalize(data['results'])\n",
    "print(df)\n",
    "\n",
    "\"\"\"\n",
    "###Archivo para hacer pruebas sobre python\n",
    "sys.path.insert(0, '/home/marius/Documents/Modelado&Programacion/GitHub_repo/MyP_2022-2/Proyecto01/tests')\n",
    "\n",
    "import test_cache as ca\n",
    "import cache\n",
    "\n",
    "print(ca.Example.cache1)\n",
    "print(len(ca.Example.cache1))\n",
    "\n",
    "c = cache.Cache()\n",
    "c.addValue(\"APT\",{'Hola': 2, 'Adios':3})\n",
    "\n",
    "print(c.getValue('APT'))\n",
    "\n",
    "\n"
   ]
  },
  {
   "cell_type": "code",
   "execution_count": null,
   "metadata": {},
   "outputs": [],
   "source": []
  }
 ],
 "metadata": {
  "interpreter": {
   "hash": "4b564669f34d395d10cb3da153fa2233e1f4783d6adfe70c5ebed812b186c2ed"
  },
  "kernelspec": {
   "display_name": "Python 3.9.7 ('base')",
   "language": "python",
   "name": "python3"
  },
  "language_info": {
   "codemirror_mode": {
    "name": "ipython",
    "version": 3
   },
   "file_extension": ".py",
   "mimetype": "text/x-python",
   "name": "python",
   "nbconvert_exporter": "python",
   "pygments_lexer": "ipython3",
   "version": "3.9.7"
  },
  "orig_nbformat": 4
 },
 "nbformat": 4,
 "nbformat_minor": 2
}
