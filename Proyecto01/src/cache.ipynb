{
 "cells": [
  {
   "cell_type": "code",
   "execution_count": 1,
   "metadata": {},
   "outputs": [],
   "source": [
    "import pandas as pd\n",
    "from typing import Type\n",
    "\n",
    "\n",
    "class Cache:\n",
    "    def __init__(self):\n",
    "        self.ca = {}\n",
    "\n",
    "    def getValue(self, iata):\n",
    "        if type(iata) != str and len(iata) != 3:\n",
    "            raise ValueError\n",
    "        return self.ca.get(iata)\n",
    "\n",
    "    def getKeys(self):\n",
    "        return self.ca.keys()\n",
    "\n",
    "    def getLength(self):\n",
    "        return len(self.ca)\n",
    "\n",
    "    def getValue(self, iata):\n",
    "        if type(iata) != str:\n",
    "            raise TypeError\n",
    "        return self.ca.get(iata)\n",
    "\n",
    "    def addValue(self, iata, info):\n",
    "        #Revisamos si ambos argumentos cumplen con las condiciones\n",
    "        if type(iata) != str or type(info) != dict:\n",
    "            raise TypeError\n",
    "        #Ahora resivamos que el codigo IATA tenga exactamente 3 caracteres\n",
    "        if len(iata) != 3 :\n",
    "            raise ValueError\n",
    "        #Si todo salio bien agregamos el nuevo dato al diccionario\n",
    "        self.ca.update({iata: info})\n",
    "\n",
    "    #La construccion del cache actualizado debera ser en otro modulo\n",
    "    def updateCache(self, dicc):\n",
    "        if type(dicc) != dict:\n",
    "            raise TypeError\n",
    "        #Pudes agregar unas lineas que comprueben que toda key en 'dicc' este en 'ca' y que no haya extras\n",
    "        self.ca.update(dicc)\n",
    "\n",
    "    def clearCache(self):\n",
    "        self.ca.clear()"
   ]
  }
 ],
 "metadata": {
  "interpreter": {
   "hash": "c8de50c09079c2205839ee23bf826c226be6807115ed0be9e6dc25dbf1d3eba9"
  },
  "kernelspec": {
   "display_name": "Python 3.9.7 ('base')",
   "language": "python",
   "name": "python3"
  },
  "language_info": {
   "codemirror_mode": {
    "name": "ipython",
    "version": 3
   },
   "file_extension": ".py",
   "mimetype": "text/x-python",
   "name": "python",
   "nbconvert_exporter": "python",
   "pygments_lexer": "ipython3",
   "version": "3.9.7"
  },
  "orig_nbformat": 4
 },
 "nbformat": 4,
 "nbformat_minor": 2
}
