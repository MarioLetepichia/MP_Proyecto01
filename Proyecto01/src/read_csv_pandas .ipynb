{
 "cells": [
  {
   "cell_type": "code",
   "execution_count": 4,
   "metadata": {},
   "outputs": [],
   "source": [
    "\n",
    "\"\"\"\n",
    "Lectura de base de datos con pandas\n",
    "@autor Ivette612\n",
    "\"\"\"\n",
    "import pandas as pd\n",
    "\n",
    "\n",
    "def read_file(dataframe): \n",
    "    \"\"\"Read a csv file\n",
    "\n",
    "    Parameters\n",
    "    ----------\n",
    "    file_csv : dataset1\n",
    "      \n",
    "    Returns\n",
    "    -------\n",
    "    list\n",
    "        a list of strings used that are a csv file\n",
    "    \"\"\"\n",
    "\n",
    "   \n",
    "   \n",
    "    try:\n",
    "        df = pd.read_csv('dataset1.csv')\n",
    "\n",
    "        df_coodenadas = df[['origin','origin_latitude','origin_longitude', 'destination', 'destination_latitude','destination_longitude']]\n",
    "\n",
    "        input = df_coodenadas.values.tolist()\n",
    "\n",
    "        except FileNotFoundError:\n",
    "            print(\"File not found.\")\n",
    "        except pd.errors.EmptyDataError:\n",
    "            print(\"No data\")\n",
    "        except pd.errors.ParserError:\n",
    "            print(\"Parse error\")\n",
    "        except Exception:\n",
    "        print(\"Some other exception\")\n",
    "\n",
    "\n",
    "\n"
   ]
  }
 ],
 "metadata": {
  "interpreter": {
   "hash": "4b564669f34d395d10cb3da153fa2233e1f4783d6adfe70c5ebed812b186c2ed"
  },
  "kernelspec": {
   "display_name": "Python 3.9.7 ('base')",
   "language": "python",
   "name": "python3"
  },
  "language_info": {
   "codemirror_mode": {
    "name": "ipython",
    "version": 3
   },
   "file_extension": ".py",
   "mimetype": "text/x-python",
   "name": "python",
   "nbconvert_exporter": "python",
   "pygments_lexer": "ipython3",
   "version": "3.9.7"
  },
  "orig_nbformat": 4
 },
 "nbformat": 4,
 "nbformat_minor": 2
}
