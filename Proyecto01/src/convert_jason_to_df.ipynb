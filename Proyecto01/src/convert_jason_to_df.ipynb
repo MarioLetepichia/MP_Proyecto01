{
 "cells": [
  {
   "cell_type": "code",
   "execution_count": 5,
   "metadata": {},
   "outputs": [
    {
     "name": "stdout",
     "output_type": "stream",
     "text": [
      "    elevation  resolution  location.lat  location.lng\n",
      "0  243.346268   19.087904     42.974040    -81.205203\n",
      "1  244.131866   19.087904     42.974298    -81.195755\n"
     ]
    }
   ],
   "source": [
    "\"\"\"\n",
    "Convertir archivo jason en dataframe\n",
    "@autor Ivette612\n",
    "\"\"\"\n",
    "\n",
    "import pandas as pd\n",
    "import json\n",
    "\n",
    "\"\"\"\n",
    "EJEMPLO DE ARCHIVO JSON\n",
    "j = '''\n",
    "\n",
    "{\n",
    "    \"results\": [{\n",
    "        \"elevation\": 243.3462677001953,\n",
    "        \"location\": {\n",
    "            \"lat\": 42.97404,\n",
    "            \"lng\": -81.205203\n",
    "        },\n",
    "        \"resolution\": 19.08790397644043\n",
    "    }, {\n",
    "        \"elevation\": 244.1318664550781,\n",
    "        \"location\": {\n",
    "            \"lat\": 42.974298,\n",
    "            \"lng\": -81.19575500000001\n",
    "        },\n",
    "        \"resolution\": 19.08790397644043\n",
    "    }],\n",
    "    \"status\": \"OK\"\n",
    "}\n",
    "'''\n",
    "#Camibar nombre de archivo\n",
    "\n",
    "data = json.loads(j)\n",
    "df = pd.json_normalize(data['results'])\n",
    "print(df)\n",
    "\n",
    "\"\"\"\n",
    "\n",
    "\n",
    "\n"
   ]
  }
 ],
 "metadata": {
  "interpreter": {
   "hash": "4b564669f34d395d10cb3da153fa2233e1f4783d6adfe70c5ebed812b186c2ed"
  },
  "kernelspec": {
   "display_name": "Python 3.9.7 ('base')",
   "language": "python",
   "name": "python3"
  },
  "language_info": {
   "codemirror_mode": {
    "name": "ipython",
    "version": 3
   },
   "file_extension": ".py",
   "mimetype": "text/x-python",
   "name": "python",
   "nbconvert_exporter": "python",
   "pygments_lexer": "ipython3",
   "version": "3.9.7"
  },
  "orig_nbformat": 4
 },
 "nbformat": 4,
 "nbformat_minor": 2
}
