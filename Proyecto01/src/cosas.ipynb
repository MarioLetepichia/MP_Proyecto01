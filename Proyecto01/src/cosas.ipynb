{
 "cells": [
  {
   "cell_type": "code",
   "execution_count": 2,
   "metadata": {},
   "outputs": [
    {
     "name": "stdout",
     "output_type": "stream",
     "text": [
      "{'Hola': 10, 'Adios': 5}\n"
     ]
    }
   ],
   "source": [
    "import pandas as pd\n",
    "import cache\n",
    "\n",
    "c = cache.Cache()\n",
    "c.addValue(\"APT\",{'Hola': 2, 'Adios':3})\n",
    "c.addValue(\"ABC\",{'Hola': 10, 'Adios':5})\n",
    "\n",
    "abc = 'ABC'\n",
    "print(c.getValue(abc))\n"
   ]
  }
 ],
 "metadata": {
  "interpreter": {
   "hash": "c8de50c09079c2205839ee23bf826c226be6807115ed0be9e6dc25dbf1d3eba9"
  },
  "kernelspec": {
   "display_name": "Python 3.9.7 ('base')",
   "language": "python",
   "name": "python3"
  },
  "language_info": {
   "codemirror_mode": {
    "name": "ipython",
    "version": 3
   },
   "file_extension": ".py",
   "mimetype": "text/x-python",
   "name": "python",
   "nbconvert_exporter": "python",
   "pygments_lexer": "ipython3",
   "version": "3.9.7"
  },
  "orig_nbformat": 4
 },
 "nbformat": 4,
 "nbformat_minor": 2
}
