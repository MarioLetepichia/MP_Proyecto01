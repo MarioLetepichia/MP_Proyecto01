{
 "cells": [
  {
   "cell_type": "code",
   "execution_count": 1,
   "metadata": {},
   "outputs": [
    {
     "ename": "SyntaxError",
     "evalue": "invalid syntax (2892927336.py, line 30)",
     "output_type": "error",
     "traceback": [
      "\u001b[0;36m  Input \u001b[0;32mIn [1]\u001b[0;36m\u001b[0m\n\u001b[0;31m    except FileNotFoundError:\u001b[0m\n\u001b[0m    ^\u001b[0m\n\u001b[0;31mSyntaxError\u001b[0m\u001b[0;31m:\u001b[0m invalid syntax\n"
     ]
    }
   ],
   "source": [
    "\n",
    "\"\"\"\n",
    "Lectura de base de datos con pandas\n",
    "@autor Ivette612\n",
    "\"\"\"\n",
    "import pandas as pd\n",
    "\n",
    "\n",
    "def read_file(dataframe): \n",
    "    \"\"\"Read a csv file\n",
    "\n",
    "    Parameters\n",
    "    ----------\n",
    "    file_csv : dataset1\n",
    "      \n",
    "    Returns\n",
    "    -------\n",
    "    list\n",
    "        a list of strings used that are a csv file\n",
    "    \"\"\"\n",
    "\n",
    "   \n",
    "   \n",
    "    try:\n",
    "        df = pd.read_csv('dataset1.csv')\n",
    "\n",
    "        df_coodenadas = df[['origin','origin_latitude','origin_longitude', 'destination', 'destination_latitude','destination_longitude']]\n",
    "\n",
    "        input = df_coodenadas.values.tolist()\n",
    "\n",
    "        except FileNotFoundError:\n",
    "            print(\"File not found.\")\n",
    "        except pd.errors.EmptyDataError:\n",
    "            print(\"No data\")\n",
    "        except pd.errors.ParserError:\n",
    "            print(\"Parse error\")\n",
    "        except Exception:\n",
    "        print(\"Some other exception\")\n",
    "\n",
    "\n",
    "\n"
   ]
  },
  {
   "cell_type": "code",
   "execution_count": null,
   "metadata": {},
   "outputs": [],
   "source": []
  }
 ],
 "metadata": {
  "interpreter": {
   "hash": "4b564669f34d395d10cb3da153fa2233e1f4783d6adfe70c5ebed812b186c2ed"
  },
  "kernelspec": {
   "display_name": "Python 3 (ipykernel)",
   "language": "python",
   "name": "python3"
  },
  "language_info": {
   "codemirror_mode": {
    "name": "ipython",
    "version": 3
   },
   "file_extension": ".py",
   "mimetype": "text/x-python",
   "name": "python",
   "nbconvert_exporter": "python",
   "pygments_lexer": "ipython3",
   "version": "3.9.7"
  }
 },
 "nbformat": 4,
 "nbformat_minor": 2
}
