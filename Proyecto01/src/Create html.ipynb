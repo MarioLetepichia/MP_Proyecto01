{
 "cells": [
  {
   "cell_type": "code",
   "execution_count": 2,
   "metadata": {},
   "outputs": [],
   "source": [
    "\n",
    "\"\"\"\n",
    "Lectura de base de datos con pandas\n",
    "@autor Ivette612\n",
    "\"\"\"\n",
    "import pandas as pd\n",
    "\n",
    "\n",
    "def create_html(list): \n",
    "    \n",
    "    \"\"\"Create a html\n",
    "\n",
    "    Parameters\n",
    "    ----------\n",
    "    list : tickets_procesados\n",
    "      \n",
    "    Returns\n",
    "    -------\n",
    "    html with the output final information \n",
    "        \n",
    "    \"\"\"\n",
    "\n",
    "    df_output = pd.DataFrame(tickets_procesados)\n",
    "    df_output.to_html(\"'D:\\\\weather_data\\\\output.html\")\n",
    "\n",
    "\n"
   ]
  },
  {
   "cell_type": "code",
   "execution_count": null,
   "metadata": {},
   "outputs": [],
   "source": []
  },
  {
   "cell_type": "code",
   "execution_count": null,
   "metadata": {},
   "outputs": [],
   "source": []
  }
 ],
 "metadata": {
  "interpreter": {
   "hash": "4b564669f34d395d10cb3da153fa2233e1f4783d6adfe70c5ebed812b186c2ed"
  },
  "kernelspec": {
   "display_name": "Python 3 (ipykernel)",
   "language": "python",
   "name": "python3"
  },
  "language_info": {
   "codemirror_mode": {
    "name": "ipython",
    "version": 3
   },
   "file_extension": ".py",
   "mimetype": "text/x-python",
   "name": "python",
   "nbconvert_exporter": "python",
   "pygments_lexer": "ipython3",
   "version": "3.9.7"
  }
 },
 "nbformat": 4,
 "nbformat_minor": 2
}
