{
 "cells": [
  {
   "cell_type": "code",
   "execution_count": 5,
   "metadata": {},
   "outputs": [],
   "source": [
    "\n",
    "\"\"\"\n",
    "Lectura de base de datos con pandas\n",
    "@autor Ivette612\n",
    "\"\"\"\n",
    "import pandas as pd\n",
    "\n",
    "try:\n",
    "    df = pd.read_csv('dataset1.csv')\n",
    "\n",
    "except FileNotFoundError:\n",
    "    print(\"File not found.\")\n",
    "except pd.errors.EmptyDataError:\n",
    "    print(\"No data\")\n",
    "except pd.errors.ParserError:\n",
    "    print(\"Parse error\")\n",
    "except Exception:\n",
    "    print(\"Some other exception\")\n",
    "\n",
    "\n",
    "#ANALISIS:\n",
    "\n",
    "df_destinos = df['destination'].value_counts()\n",
    "df_destinos.to_csv(\"aita.csv\")\n",
    "\n",
    "\n",
    "#Datos separados\n",
    "\n",
    "df_destinosdf_filtrado = df.drop_duplicates()\n",
    "df_iata= df[['origin','destination']]\n",
    "df_coodenadas = df[['origin_latitude','origin_longitude','destination_latitude','destination_longitude']]\n",
    "\n",
    "\n",
    "#Creacion html\n",
    "#df_iata.to_html(\"'D:\\\\weather_data\\\\my_html.html\")\n",
    "\n",
    "\n",
    "#Concatenar archivos dataframe\n",
    "\n",
    "frames = [df_iata, df_coodenadas]\n",
    "df_result = pd.concat(frames)\n",
    "\n",
    "df_result.to_html(\"'D:\\\\weather_data\\\\my_html.html\")"
   ]
  }
 ],
 "metadata": {
  "interpreter": {
   "hash": "4b564669f34d395d10cb3da153fa2233e1f4783d6adfe70c5ebed812b186c2ed"
  },
  "kernelspec": {
   "display_name": "Python 3.9.7 ('base')",
   "language": "python",
   "name": "python3"
  },
  "language_info": {
   "codemirror_mode": {
    "name": "ipython",
    "version": 3
   },
   "file_extension": ".py",
   "mimetype": "text/x-python",
   "name": "python",
   "nbconvert_exporter": "python",
   "pygments_lexer": "ipython3",
   "version": "3.9.7"
  },
  "orig_nbformat": 4
 },
 "nbformat": 4,
 "nbformat_minor": 2
}
